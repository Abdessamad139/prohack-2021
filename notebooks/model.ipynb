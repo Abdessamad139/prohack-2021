{
 "cells": [
  {
   "cell_type": "code",
   "execution_count": 1,
   "metadata": {},
   "outputs": [],
   "source": [
    "import numpy as np\n",
    "import pandas as pd\n",
    "from sklearn.metrics import mean_squared_error\n",
    "from sklearn.neighbors import KNeighborsRegressor\n",
    "\n",
    "import matplotlib.pyplot as plt\n",
    "import seaborn as sns\n",
    "\n",
    "sns.set(style=\"whitegrid\")\n",
    "%matplotlib inline"
   ]
  },
  {
   "cell_type": "markdown",
   "metadata": {},
   "source": [
    "# Data Preprocessing"
   ]
  },
  {
   "cell_type": "code",
   "execution_count": 2,
   "metadata": {},
   "outputs": [],
   "source": [
    "train = pd.read_csv(\"../data/train.csv\")\n",
    "test = pd.read_csv(\"../data/test.csv\")"
   ]
  },
  {
   "cell_type": "markdown",
   "metadata": {},
   "source": [
    "Drop galaxy with one observation:"
   ]
  },
  {
   "cell_type": "code",
   "execution_count": 3,
   "metadata": {},
   "outputs": [],
   "source": [
    "train = train[train[\"galaxy\"] != \"NGC 5253\"]"
   ]
  },
  {
   "cell_type": "markdown",
   "metadata": {},
   "source": [
    "Seperate validation and prediction parts. For simple validation we'll use all data before year 1007012, as test index starts only from it."
   ]
  },
  {
   "cell_type": "code",
   "execution_count": 4,
   "metadata": {},
   "outputs": [],
   "source": [
    "VAL_MODE = False\n",
    "\n",
    "if VAL_MODE:\n",
    "    val_data = train[train[\"galactic year\"] < 1007012].reset_index(drop=True)\n",
    "    X = val_data.drop(\"y\", axis=1)\n",
    "    y = val_data[\"y\"]\n",
    "else:\n",
    "    val_data = pd.concat([train, test], axis=0, sort=False, ignore_index=True)\n",
    "    X = val_data.drop(\"y\", axis=1)\n",
    "    y = val_data[\"y\"]"
   ]
  },
  {
   "cell_type": "markdown",
   "metadata": {},
   "source": [
    "Encode galactic years using rank:"
   ]
  },
  {
   "cell_type": "code",
   "execution_count": 5,
   "metadata": {},
   "outputs": [],
   "source": [
    "X[\"galactic year\"] = X[\"galactic year\"].rank(method=\"dense\").astype(int)"
   ]
  },
  {
   "cell_type": "markdown",
   "metadata": {},
   "source": [
    "Label-encode galaxies for convenience:"
   ]
  },
  {
   "cell_type": "code",
   "execution_count": 6,
   "metadata": {},
   "outputs": [],
   "source": [
    "X[\"galaxy\"], galaxy_names = X[\"galaxy\"].factorize()"
   ]
  },
  {
   "cell_type": "markdown",
   "metadata": {},
   "source": [
    "Set galaxy-year pair as index for data and answers:"
   ]
  },
  {
   "cell_type": "code",
   "execution_count": 7,
   "metadata": {},
   "outputs": [],
   "source": [
    "X = X.set_index([\"galaxy\", \"galactic year\"])\n",
    "idx_name = X.index\n",
    "y.index = idx_name"
   ]
  },
  {
   "cell_type": "markdown",
   "metadata": {},
   "source": [
    "For simple validation select 80 random galaxies (around number of galaxies in test for each year) and remove their answers from train for last 3 years."
   ]
  },
  {
   "cell_type": "code",
   "execution_count": 8,
   "metadata": {},
   "outputs": [],
   "source": [
    "if VAL_MODE:\n",
    "    test_galaxies = X.index.get_level_values(\"galaxy\").isin(X.reset_index(\"galaxy\")[\"galaxy\"][1].sample(80, random_state=42).values)\n",
    "    test_years = X.index.get_level_values(\"galactic year\") >= 15\n",
    "    train_idx = X[~(test_years & test_galaxies)].index\n",
    "    test_idx = X[(test_years & test_galaxies)].index\n",
    "else:\n",
    "    train_idx = X.index[:len(train)]\n",
    "    test_idx = X.index[len(train):]\n",
    "\n",
    "data = pd.concat([X, y.loc[train_idx]], axis=1)"
   ]
  },
  {
   "cell_type": "markdown",
   "metadata": {},
   "source": [
    "Why use such a simple validation? Well, it may be better the nothing, but also if we saw, that distribution in test data changes significantly from train, and make it really hard to create something similar."
   ]
  },
  {
   "cell_type": "markdown",
   "metadata": {},
   "source": [
    "# Dynamic KNN Regression"
   ]
  },
  {
   "cell_type": "markdown",
   "metadata": {},
   "source": [
    "The good thing is, we need only train answers to make quite good predictions. We have seen that answers movement between galaxies is very similar. Since we have answers for some galaxies in train for years, for which we don't have answers in test, for each galaxy in test we can find similar galaxies in train and use them to predict answer.\n",
    "\n",
    "So, we will use KNN for prediction. But directly predicting an answer is not a good idea (which proved on validation), because, we can see similar movements, but values can be significantly different. The better strategy is to predict a change in answer for each galaxy and add it to last known value to get the answer. The algorithm is following:\n",
    "\n",
    "For each year that we have to make predictions for:\n",
    "- Take all answers for all galaxies till this year\n",
    "- Differentiate answers for each galaxy in time\n",
    "- If galaxy has answer for current year, it goes to train, else to test\n",
    "- For each galaxy in test:\n",
    " - Find $K$ nearest galaxies in train in terms of differences\n",
    " - Average current differences of neighbors to predict difference in this galaxy\n",
    " - Add predicted difference to previous value to obtain final value prediction\n",
    "\n",
    "This way, on each step we will have fully completed predictions till current year.\n",
    "\n",
    "(Optimal parameters for KNN were obtained during validation)"
   ]
  },
  {
   "cell_type": "code",
   "execution_count": 9,
   "metadata": {},
   "outputs": [
    {
     "name": "stdout",
     "output_type": "stream",
     "text": [
      "Prediction for year 18\n",
      "Prediction for year 19\n",
      "Prediction for year 20\n",
      "Prediction for year 21\n",
      "Prediction for year 22\n",
      "Prediction for year 23\n",
      "Prediction for year 24\n",
      "Prediction for year 25\n",
      "Prediction for year 26\n"
     ]
    }
   ],
   "source": [
    "pred = data[\"y\"].copy()\n",
    "pred_years = sorted(data[\"y\"][data[\"y\"].isna()].index.get_level_values(\"galactic year\").unique())\n",
    "if not VAL_MODE:\n",
    "    pred_years = pred_years[:-1]\n",
    "\n",
    "for pred_year in pred_years:\n",
    "    print(f\"Prediction for year {pred_year}\")\n",
    "    knn_data = pred.unstack().diff(axis=1).iloc[:, :pred_year]\n",
    "    knn_data.iloc[:, 0].fillna(0, inplace=True)\n",
    "    knn_data = knn_data[~knn_data.iloc[:, :-1].isna().any(axis=1)]\n",
    "\n",
    "    X_train = knn_data[~knn_data.isna().any(axis=1)].iloc[:, :-1]\n",
    "    y_train = knn_data[~knn_data.isna().any(axis=1)].iloc[:, -1]\n",
    "\n",
    "    X_pred = knn_data[knn_data.isna().any(axis=1)].iloc[:, :-1]\n",
    "\n",
    "    model = KNeighborsRegressor(12, weights=\"distance\", p=1.5)\n",
    "    model.fit(X_train, y_train)\n",
    "\n",
    "    y_pred = model.predict(X_pred)\n",
    "    y_pred = pd.Series(y_pred, index=X_pred.index)\n",
    "\n",
    "    knn_data.iloc[:, -1].fillna(y_pred, inplace=True)\n",
    "\n",
    "    pred = pred.fillna(knn_data.cumsum(axis=1).add(pred.unstack()[1], axis=0).stack())\n",
    "\n",
    "test_pred = pred[test_idx]\n",
    "train_pred = pred[train_idx]"
   ]
  },
  {
   "cell_type": "markdown",
   "metadata": {},
   "source": [
    "As it can be seen on validation, prediction of difference is quite good, but the main problem is, if we make an error in one of the first years of prediction, it will propogate to all of the following years predictions, i.e. in galaxy 147.\n",
    "\n",
    "Another problem with this approach is that in train we don't have train answers for last year in test (27), thus, cannot use KNN. But we can simply forward-fill last predictions:"
   ]
  },
  {
   "cell_type": "code",
   "execution_count": 10,
   "metadata": {},
   "outputs": [],
   "source": [
    "# Forward fill last value if predicting test\n",
    "if not VAL_MODE:\n",
    "    pred = pred.unstack().ffill(axis=1).stack()\n",
    "    test_pred = pred[test_idx]\n",
    "    train_pred = pred[train_idx]"
   ]
  },
  {
   "cell_type": "code",
   "execution_count": 11,
   "metadata": {},
   "outputs": [
    {
     "name": "stdout",
     "output_type": "stream",
     "text": [
      "Train RMSE: 0.0\n"
     ]
    }
   ],
   "source": [
    "train_error = mean_squared_error(y.loc[train_idx], train_pred, squared=False)\n",
    "print(\"Train RMSE:\", train_error)\n",
    "if VAL_MODE:\n",
    "    test_error = mean_squared_error(y.loc[test_idx], test_pred, squared=False)\n",
    "    print(\"Test RMSE:\", test_error)"
   ]
  },
  {
   "cell_type": "code",
   "execution_count": 21,
   "metadata": {},
   "outputs": [
    {
     "data": {
      "image/png": "[encoded data removed]",
      "text/plain": [
       "<Figure size 432x288 with 1 Axes>"
      ]
     },
     "metadata": {
      "needs_background": "light"
     },
     "output_type": "display_data"
    }
   ],
   "source": [
    "galaxy_id = 147\n",
    "sample_pred = pred.unstack().iloc[galaxy_id]\n",
    "sample_y = y.unstack().iloc[galaxy_id]\n",
    "plt.scatter(sample_pred.index, sample_pred, label=\"Prediction\")\n",
    "plt.scatter(sample_y.index, sample_y, label=\"Actual\")\n",
    "plt.title(galaxy_names[galaxy_id])\n",
    "plt.legend()\n",
    "sns.despine(left=True)\n",
    "plt.show()"
   ]
  },
  {
   "cell_type": "markdown",
   "metadata": {},
   "source": [
    "# Analyzing prediction"
   ]
  },
  {
   "cell_type": "markdown",
   "metadata": {},
   "source": [
    "Let's have a look at what we've predicted on sample of galaxies:"
   ]
  },
  {
   "cell_type": "code",
   "execution_count": 12,
   "metadata": {},
   "outputs": [
    {
     "data": {
      "image/png": "[encoded data removed]",
      "text/plain": [
       "<Figure size 1152x576 with 8 Axes>"
      ]
     },
     "metadata": {
      "needs_background": "light"
     },
     "output_type": "display_data"
    }
   ],
   "source": [
    "np.random.seed(0)\n",
    "sample_galaxies = np.random.choice(X.loc[test_idx].index.get_level_values(\"galaxy\"), 8, replace=False)\n",
    "\n",
    "fig, axes = plt.subplots(int(np.ceil(len(sample_galaxies) / 4)), 4, figsize=(16, 8))\n",
    "for galaxy, ax in zip(sample_galaxies, axes.flatten()):\n",
    "    galaxy_data = data.loc[galaxy]\n",
    "    ax.set_title(galaxy_names[galaxy])\n",
    "    ax.scatter(galaxy_data.index, galaxy_data[\"y\"])\n",
    "    if galaxy in pred:\n",
    "        galaxy_pred_data = pred[galaxy]\n",
    "        ax.scatter(galaxy_pred_data.index, galaxy_pred_data.values, alpha=0.5)\n",
    "    if VAL_MODE and (galaxy in y.loc[test_idx].index.get_level_values(\"galaxy\")):\n",
    "        galaxy_test_data = y.loc[test_idx][galaxy]\n",
    "        ax.scatter(galaxy_test_data.index, galaxy_test_data.values, alpha=0.5, c=\"b\")\n",
    "sns.despine(left=True)\n",
    "plt.tight_layout()"
   ]
  },
  {
   "cell_type": "markdown",
   "metadata": {},
   "source": [
    "Looks realistic!"
   ]
  },
  {
   "cell_type": "markdown",
   "metadata": {},
   "source": [
    "# Optimal allocation"
   ]
  },
  {
   "cell_type": "markdown",
   "metadata": {},
   "source": [
    "Some stuff needed to check constraints and compute potential:"
   ]
  },
  {
   "cell_type": "code",
   "execution_count": 13,
   "metadata": {},
   "outputs": [],
   "source": [
    "low_eei_idx = test[test[\"existence expectancy index\"] < 0.7].index\n",
    "\n",
    "potential = -np.log(test_pred.values + 0.01) + 3\n",
    "\n",
    "def neg_likely_increase(w):\n",
    "    return -(w * potential ** 2).sum() / 1000"
   ]
  },
  {
   "cell_type": "markdown",
   "metadata": {},
   "source": [
    "Ideally we would allocate 100 to top 500 galaxies by their potential, but let's have a look at our predictions distribution:"
   ]
  },
  {
   "cell_type": "code",
   "execution_count": 14,
   "metadata": {},
   "outputs": [
    {
     "data": {
      "image/png": "[encoded data removed]",
      "text/plain": [
       "<Figure size 720x360 with 1 Axes>"
      ]
     },
     "metadata": {
      "needs_background": "light"
     },
     "output_type": "display_data"
    }
   ],
   "source": [
    "fig, ax = plt.subplots(figsize=(10, 5))\n",
    "ax.hist(potential, bins=50)\n",
    "ax.vlines(sorted(potential)[-500], ax.get_ylim()[0], ax.get_ylim()[1], label=\"Top 500 level\", color=\"r\", lw=3)\n",
    "ax.legend()\n",
    "sns.despine(left=True)\n",
    "plt.show()"
   ]
  },
  {
   "cell_type": "markdown",
   "metadata": {},
   "source": [
    "We can see that there are a lot of predictions in border area, so we can easily make a mistake even if a prediction is quite good, and get a bad score for optimization. To overcome it, we will gradually decrease allocated stuff around borderline."
   ]
  },
  {
   "cell_type": "markdown",
   "metadata": {},
   "source": [
    "First way to allocate is to decrease quantity linearly. Several submissions helped to find near-optimal area for dilution, which is around 125 galaxies around border:"
   ]
  },
  {
   "cell_type": "code",
   "execution_count": 15,
   "metadata": {},
   "outputs": [
    {
     "name": "stdout",
     "output_type": "stream",
     "text": [
      "Total low-EEI galaxies energy: 6455.2\n",
      "Likely increase: 1857.859277249552\n"
     ]
    }
   ],
   "source": [
    "x1 = np.zeros(len(test))\n",
    "x1[potential.argsort()[::-1][:375]] = 100\n",
    "x1[potential.argsort()[::-1][375:625]] = [100 - i * (50 / 125) for i in range(1, 126)] + [100 - i  * (50 / 125) for i in range(125, 250)]\n",
    "print(\"Total low-EEI galaxies energy:\", x1[low_eei_idx].sum())\n",
    "print(\"Likely increase:\", -neg_likely_increase(x1))"
   ]
  },
  {
   "cell_type": "markdown",
   "metadata": {},
   "source": [
    "Second way takes into account that in equal range around border, we have more predictions greater then border, then predictions less than border, so we need to dilute them more aggresively:"
   ]
  },
  {
   "cell_type": "code",
   "execution_count": 16,
   "metadata": {},
   "outputs": [
    {
     "name": "stdout",
     "output_type": "stream",
     "text": [
      "Total low-EEI galaxies energy: 6243.849999999999\n",
      "Likely increase: 1852.2509148368479\n"
     ]
    }
   ],
   "source": [
    "h = 62.5\n",
    "x2 = np.zeros(len(test))\n",
    "x2[potential.argsort()[::-1][:250]] = 100\n",
    "x2[potential.argsort()[::-1][250:500]] = [100 - i / 250 * (100 - h) for i in range(1, 251)]\n",
    "x2[potential.argsort()[::-1][500:650]] = [1/3 + h - i / 150 * h for i in range(1, 151)]\n",
    "print(\"Total low-EEI galaxies energy:\", x2[low_eei_idx].sum())\n",
    "print(\"Likely increase:\", -neg_likely_increase(x2))"
   ]
  },
  {
   "cell_type": "markdown",
   "metadata": {},
   "source": [
    "Final submission averages these approaches:"
   ]
  },
  {
   "cell_type": "code",
   "execution_count": 17,
   "metadata": {},
   "outputs": [],
   "source": [
    "x = (x1 + x2) / 2"
   ]
  },
  {
   "cell_type": "code",
   "execution_count": 18,
   "metadata": {},
   "outputs": [
    {
     "data": {
      "image/png": "[encoded data removed]",
      "text/plain": [
       "<Figure size 720x360 with 1 Axes>"
      ]
     },
     "metadata": {
      "needs_background": "light"
     },
     "output_type": "display_data"
    }
   ],
   "source": [
    "plt.figure(figsize=(10, 5))\n",
    "plt.title(\"Allocation depending on potential\")\n",
    "plt.scatter(potential, x, s=1)\n",
    "sns.despine(left=True)\n",
    "plt.show()"
   ]
  },
  {
   "cell_type": "code",
   "execution_count": 19,
   "metadata": {},
   "outputs": [
    {
     "name": "stdout",
     "output_type": "stream",
     "text": [
      "Total allocated value: 49999.99999999999\n"
     ]
    }
   ],
   "source": [
    "print(f\"Total allocated value: {x.sum()}\")"
   ]
  },
  {
   "cell_type": "markdown",
   "metadata": {},
   "source": [
    "# Creating submission"
   ]
  },
  {
   "cell_type": "code",
   "execution_count": 20,
   "metadata": {},
   "outputs": [],
   "source": [
    "result = pd.DataFrame(columns=[\"Index\", \"pred\", \"opt_pred\"])\n",
    "result[\"Index\"] = test.index\n",
    "result[\"pred\"] = test_pred.values\n",
    "result[\"opt_pred\"] = x"
   ]
  },
  {
   "cell_type": "code",
   "execution_count": 21,
   "metadata": {},
   "outputs": [],
   "source": [
    "result.to_csv(\"../submissions/submission.csv\", index=False)"
   ]
  }
 ],
 "metadata": {
  "kernelspec": {
   "display_name": "Python 3",
   "language": "python",
   "name": "python3"
  },
  "language_info": {
   "codemirror_mode": {
    "name": "ipython",
    "version": 3
   },
   "file_extension": ".py",
   "mimetype": "text/x-python",
   "name": "python",
   "nbconvert_exporter": "python",
   "pygments_lexer": "ipython3",
   "version": "3.7.6"
  }
 },
 "nbformat": 4,
 "nbformat_minor": 4
}
